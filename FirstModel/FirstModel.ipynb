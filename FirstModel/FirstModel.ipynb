{
 "cells": [
  {
   "cell_type": "code",
   "execution_count": 35,
   "metadata": {},
   "outputs": [
    {
     "name": "stdout",
     "output_type": "stream",
     "text": [
      "Data format set to: channels_last\n",
      "Imported real good!\n"
     ]
    }
   ],
   "source": [
    "import numpy as np\n",
    "import pandas as pd\n",
    "\n",
    "import keras\n",
    "from sklearn.model_selection import train_test_split\n",
    "from keras.models import Model, Sequential\n",
    "from keras.layers import Input, Dense, Dropout, Flatten\n",
    "from keras.layers.convolutional import Conv2D, MaxPooling2D\n",
    "from keras import optimizers\n",
    "from keras.utils import np_utils\n",
    "from keras.utils.np_utils import to_categorical\n",
    "from keras import backend as K\n",
    "\n",
    "keras.backend.set_image_data_format('channels_last')\n",
    "print(f\"Data format set to: {K.image_data_format()}\")\n",
    "\n",
    "print('Imported real good!')\n"
   ]
  },
  {
   "cell_type": "code",
   "execution_count": 2,
   "metadata": {},
   "outputs": [
    {
     "data": {
      "text/html": [
       "<div>\n",
       "<style scoped>\n",
       "    .dataframe tbody tr th:only-of-type {\n",
       "        vertical-align: middle;\n",
       "    }\n",
       "\n",
       "    .dataframe tbody tr th {\n",
       "        vertical-align: top;\n",
       "    }\n",
       "\n",
       "    .dataframe thead th {\n",
       "        text-align: right;\n",
       "    }\n",
       "</style>\n",
       "<table border=\"1\" class=\"dataframe\">\n",
       "  <thead>\n",
       "    <tr style=\"text-align: right;\">\n",
       "      <th></th>\n",
       "      <th>0</th>\n",
       "      <th>1</th>\n",
       "      <th>2</th>\n",
       "      <th>3</th>\n",
       "      <th>4</th>\n",
       "      <th>5</th>\n",
       "      <th>6</th>\n",
       "      <th>7</th>\n",
       "      <th>8</th>\n",
       "      <th>9</th>\n",
       "      <th>...</th>\n",
       "      <th>775</th>\n",
       "      <th>776</th>\n",
       "      <th>777</th>\n",
       "      <th>778</th>\n",
       "      <th>779</th>\n",
       "      <th>780</th>\n",
       "      <th>781</th>\n",
       "      <th>782</th>\n",
       "      <th>783</th>\n",
       "      <th>784</th>\n",
       "    </tr>\n",
       "  </thead>\n",
       "  <tbody>\n",
       "    <tr>\n",
       "      <th>0</th>\n",
       "      <td>255</td>\n",
       "      <td>255</td>\n",
       "      <td>255</td>\n",
       "      <td>255</td>\n",
       "      <td>255</td>\n",
       "      <td>255</td>\n",
       "      <td>255</td>\n",
       "      <td>255</td>\n",
       "      <td>255</td>\n",
       "      <td>255</td>\n",
       "      <td>...</td>\n",
       "      <td>0</td>\n",
       "      <td>0</td>\n",
       "      <td>0</td>\n",
       "      <td>0</td>\n",
       "      <td>0</td>\n",
       "      <td>0</td>\n",
       "      <td>0</td>\n",
       "      <td>0</td>\n",
       "      <td>0</td>\n",
       "      <td>50</td>\n",
       "    </tr>\n",
       "  </tbody>\n",
       "</table>\n",
       "<p>1 rows × 785 columns</p>\n",
       "</div>"
      ],
      "text/plain": [
       "     0    1    2    3    4    5    6    7    8    9  ...  775  776  777  778  \\\n",
       "0  255  255  255  255  255  255  255  255  255  255  ...    0    0    0    0   \n",
       "\n",
       "   779  780  781  782  783  784  \n",
       "0    0    0    0    0    0   50  \n",
       "\n",
       "[1 rows x 785 columns]"
      ]
     },
     "execution_count": 2,
     "metadata": {},
     "output_type": "execute_result"
    }
   ],
   "source": [
    "df = pd.read_csv('data.csv', index_col=False)\n",
    "df.head(1)"
   ]
  },
  {
   "cell_type": "markdown",
   "metadata": {},
   "source": [
    "# Process the data"
   ]
  },
  {
   "cell_type": "code",
   "execution_count": 3,
   "metadata": {},
   "outputs": [],
   "source": [
    "# Split labels from data\n",
    "labels_unordered = np.array(df[['784']])\n",
    "\n",
    "# Need labels used to be numbered correctly to call to_categorical()\n",
    "labels = np.copy(labels_unordered)\n",
    "labels = np.where(labels == 49, 10, labels)\n",
    "labels = np.where(labels == 50, 11, labels)\n",
    "labels = np.where(labels == 51, 12, labels)\n",
    "labels = np.where(labels == 52, 13, labels)\n",
    "labels = np.where(labels == 82, 14, labels)\n",
    "labels = np.where(labels == 33, 15, labels)\n",
    "labels = np.where(labels == 34, 16, labels)\n",
    "\n",
    "# make sure we gucci\n",
    "assert len(labels_unordered) == len(labels), print(\n",
    "    'labels_fixd has diff num of elements')\n",
    "assert len(np.unique(labels)) == len(\n",
    "    np.unique(labels_unordered)), print('Diff num of unique')\n",
    "\n",
    "# vectorize classes\n",
    "num_labels = len(np.unique(labels))\n",
    "cat = to_categorical(labels, num_labels)\n",
    "\n",
    "# Drop label col from data\n",
    "df.drop(columns=['784'], inplace=True)\n",
    "\n",
    "# reshape data - Channel last format\n",
    "train_data = df.values\n",
    "# train_data = train_data.reshape(-1, 28, 28, 1)\n",
    "# # there are 240520 images in the data set, each image is 28x28 pixels, and only 1 color channel\n",
    "# assert train_data.shape == (240520, 28, 28, 1), print(\n",
    "#     \"training data has wrong dimensions\")\n"
   ]
  },
  {
   "cell_type": "code",
   "execution_count": 33,
   "metadata": {},
   "outputs": [],
   "source": [
    "l = []\n",
    "for img in train_data:\n",
    "    l.append(img.reshape(28,28,1))"
   ]
  },
  {
   "cell_type": "code",
   "execution_count": 4,
   "metadata": {},
   "outputs": [
    {
     "name": "stdout",
     "output_type": "stream",
     "text": [
      "(72156, 28, 28, 1) (168364, 28, 28, 1) (168364, 17) (72156, 17)\n"
     ]
    }
   ],
   "source": [
    "# split into train test\n",
    "data_train, data_test, label_train, label_test = train_test_split(train_data, \n",
    "                                                                  cat, test_size = 0.3, train_size=0.7, \n",
    "                                                                  random_state=42)\n",
    "\n",
    "print(data_test.shape, data_train.shape, label_train.shape, label_test.shape)\n"
   ]
  },
  {
   "cell_type": "code",
   "execution_count": 34,
   "metadata": {},
   "outputs": [
    {
     "data": {
      "text/plain": [
       "(240520, 28, 28, 1)"
      ]
     },
     "execution_count": 34,
     "metadata": {},
     "output_type": "execute_result"
    }
   ],
   "source": [
    "l = np.array(l)\n",
    "l.shape"
   ]
  },
  {
   "cell_type": "code",
   "execution_count": null,
   "metadata": {},
   "outputs": [],
   "source": [
    "l.shape"
   ]
  },
  {
   "cell_type": "code",
   "execution_count": 36,
   "metadata": {},
   "outputs": [],
   "source": [
    "model = Sequential()\n",
    "model.add(Conv2D(30, (5, 5), input_shape=(28, 28, 1), activation='relu'))\n",
    "model.add(MaxPooling2D(pool_size=(2, 2)))\n",
    "model.add(Conv2D(15, (3, 3), activation='relu'))\n",
    "model.add(MaxPooling2D(pool_size=(2, 2)))\n",
    "model.add(Dropout(0.2))\n",
    "model.add(Flatten())\n",
    "model.add(Dense(128, activation='relu'))\n",
    "model.add(Dense(50, activation='relu'))\n",
    "model.add(Dense(17, activation='softmax'))\n",
    "# Compile model\n",
    "model.compile(loss='categorical_crossentropy', optimizer='adam', metrics=['accuracy'])"
   ]
  },
  {
   "cell_type": "code",
   "execution_count": 37,
   "metadata": {},
   "outputs": [
    {
     "name": "stdout",
     "output_type": "stream",
     "text": [
      "Epoch 1/10\n",
      "1203/1203 [==============================] - 81s 63ms/step - loss: 1.1432 - accuracy: 0.7262\n",
      "Epoch 2/10\n",
      "1203/1203 [==============================] - 72s 60ms/step - loss: 0.3018 - accuracy: 0.9001\n",
      "Epoch 3/10\n",
      "1203/1203 [==============================] - 92s 76ms/step - loss: 0.2383 - accuracy: 0.9191\n",
      "Epoch 4/10\n",
      "1203/1203 [==============================] - 98s 82ms/step - loss: 0.2105 - accuracy: 0.9277\n",
      "Epoch 5/10\n",
      "1203/1203 [==============================] - 75s 62ms/step - loss: 0.1913 - accuracy: 0.9344\n",
      "Epoch 6/10\n",
      "1203/1203 [==============================] - 74s 61ms/step - loss: 0.1781 - accuracy: 0.9386\n",
      "Epoch 7/10\n",
      "1203/1203 [==============================] - 74s 61ms/step - loss: 0.1691 - accuracy: 0.9418\n",
      "Epoch 8/10\n",
      "1203/1203 [==============================] - 75s 62ms/step - loss: 0.1609 - accuracy: 0.9445\n",
      "Epoch 9/10\n",
      "1203/1203 [==============================] - 74s 61ms/step - loss: 0.1552 - accuracy: 0.9467\n",
      "Epoch 10/10\n",
      "1203/1203 [==============================] - 74s 61ms/step - loss: 0.1476 - accuracy: 0.9495\n"
     ]
    },
    {
     "data": {
      "text/plain": [
       "<keras.callbacks.History at 0x1b68d5b3b50>"
      ]
     },
     "execution_count": 37,
     "metadata": {},
     "output_type": "execute_result"
    }
   ],
   "source": [
    "model.fit(np.array(l), cat, epochs=10, batch_size=200, shuffle=True, verbose=1)"
   ]
  },
  {
   "cell_type": "code",
   "execution_count": 38,
   "metadata": {},
   "outputs": [],
   "source": [
    "from keras.models import model_from_json\n",
    "\n",
    "model_json = model.to_json()\n",
    "with open(\"basic_model.json\", \"w\") as json_model:\n",
    "    json_model.write(model_json)\n",
    "    \n",
    "model.save_weights(\"basic_model_weights.h5\")"
   ]
  },
  {
   "cell_type": "code",
   "execution_count": null,
   "metadata": {},
   "outputs": [],
   "source": []
  }
 ],
 "metadata": {
  "interpreter": {
   "hash": "dba8851dec06c95965c4b9acd8f4325acdb80444c005ae414d7a6bcd36173821"
  },
  "kernelspec": {
   "display_name": "Python 3.8.8 64-bit ('base': conda)",
   "name": "python3"
  },
  "language_info": {
   "codemirror_mode": {
    "name": "ipython",
    "version": 3
   },
   "file_extension": ".py",
   "mimetype": "text/x-python",
   "name": "python",
   "nbconvert_exporter": "python",
   "pygments_lexer": "ipython3",
   "version": "3.8.8"
  },
  "orig_nbformat": 4
 },
 "nbformat": 4,
 "nbformat_minor": 2
}
