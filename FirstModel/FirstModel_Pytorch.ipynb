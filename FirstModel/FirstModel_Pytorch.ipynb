{
 "cells": [
  {
   "cell_type": "code",
   "execution_count": 16,
   "source": [
    "import pandas as pd\r\n",
    "import numpy as np\r\n",
    "from tqdm import tqdm\r\n",
    "\r\n",
    "from sklearn.model_selection import train_test_split\r\n",
    "\r\n",
    "import torch as T\r\n",
    "from torch.utils.data import DataLoader\r\n",
    "from torch.utils.data.dataset import Dataset\r\n",
    "import torch.nn as nn\r\n",
    "import torch.nn.functional as F\r\n",
    "from torch.autograd import Variable\r\n",
    "from torch import optim\r\n",
    "from torchvision import transforms\r\n",
    " \r\n",
    "device  = T.device(\"cpu\")\r\n",
    "T.manual_seed(42)\r\n",
    "\r\n",
    "print('Good imports')"
   ],
   "outputs": [
    {
     "output_type": "stream",
     "name": "stdout",
     "text": [
      "Good imports\n"
     ]
    }
   ],
   "metadata": {}
  },
  {
   "cell_type": "code",
   "execution_count": 2,
   "source": [
    "# Read data\r\n",
    "df = pd.read_csv('data.csv', index_col=False)\r\n",
    "\r\n",
    "# Extract labels\r\n",
    "labels_unordered = np.array(df[['784']])\r\n",
    "# Need labels used to be numbered correctly to call to_categorical()\r\n",
    "labels = np.copy(labels_unordered)\r\n",
    "labels = np.where(labels == 49, 10, labels)\r\n",
    "labels = np.where(labels == 50, 11, labels)\r\n",
    "labels = np.where(labels == 51, 12, labels)\r\n",
    "labels = np.where(labels == 52, 13, labels)\r\n",
    "labels = np.where(labels == 82, 14, labels)\r\n",
    "labels = np.where(labels == 33, 15, labels)\r\n",
    "labels = np.where(labels == 34, 16, labels)\r\n",
    "\r\n",
    "\r\n",
    "# Drop label col from data\r\n",
    "df.drop(columns=['784'], inplace=True)\r\n",
    "\r\n",
    "# Transomform data from 784x1 to 28x28 shape\r\n",
    "data2D = []\r\n",
    "tmp_data = df.values\r\n",
    "for img in tqdm(tmp_data):\r\n",
    "    data2D.append(img.reshape(1,28,28))\r\n",
    "data2D = np.array(data2D)"
   ],
   "outputs": [
    {
     "output_type": "stream",
     "name": "stderr",
     "text": [
      "100%|██████████| 240520/240520 [00:00<00:00, 705234.52it/s]\n"
     ]
    }
   ],
   "metadata": {}
  },
  {
   "cell_type": "code",
   "execution_count": 18,
   "source": [
    "class TorchDataSet(Dataset):\r\n",
    "    def __init__(self, data, labels, transforms=None):\r\n",
    "        self.X = data\r\n",
    "        self.labels = labels\r\n",
    "        self.transforms = transforms\r\n",
    "        \r\n",
    "    def __getitem__(self, i):\r\n",
    "        data = self.X.iloc[i,:]\r\n",
    "        data = np.array(data).astype(np.uint8).reshape(1, 28, 28) \r\n",
    "        \r\n",
    "        # apply transforms if there are any\r\n",
    "        if self.transforms:\r\n",
    "            data = self.transforms(data)\r\n",
    "        \r\n",
    "        # return tuple of data + label if given a label set\r\n",
    "        if self.labels is not None:\r\n",
    "            return (data, self.y[i])\r\n",
    "        \r\n",
    "        else:\r\n",
    "            return data\r\n",
    "    \r\n",
    "    def __len__(self):\r\n",
    "        return len(self.data)"
   ],
   "outputs": [],
   "metadata": {}
  },
  {
   "cell_type": "code",
   "execution_count": 19,
   "source": [
    "# Split data & load into custum torch dataset\r\n",
    "data_train, data_val, label_train, label_val = train_test_split(data2D, labels, test_size=0.1, random_state=42)\r\n",
    "transformations = transforms.ToTensor()\r\n",
    "\r\n",
    "train_data = TorchDataSet(data_train, label_train, transformations)\r\n",
    "validation_data = TorchDataSet(data_val, label_val, transformations)"
   ],
   "outputs": [],
   "metadata": {}
  },
  {
   "cell_type": "code",
   "execution_count": 44,
   "source": [
    "# input img shape = (num_imgs, 1, 28, 28)\r\n",
    "# after first Conv2d = (num_imgs, 16, 28, 28)\r\n",
    "# after first MaxPool2d layer = (num_imgs, 16, 14, 14)\r\n",
    "# after second Conv2d = (num_imgs, 32, 14, 14)\r\n",
    "# after second MaxPool2d layer = (num_imgs, 32, 7, 7)\r\n",
    "# after flatten = (num_imgs, 32*7*7)\r\n",
    "# i.e. input of first dense layer should be 32*7*7\r\n",
    "\r\n",
    "class basicModel(nn.Module):\r\n",
    "    def __init__(self, num_classes):\r\n",
    "        super(basicModel, self).__init__()\r\n",
    "\r\n",
    "        self.conv_layers = nn.Sequential(\r\n",
    "            nn.Conv2d(1, 16, 5, 1, 1),\r\n",
    "            nn.ReLU(),\r\n",
    "            nn.MaxPool2d(2),\r\n",
    "            nn.Conv2d(16, 32, 5, 1, 1),\r\n",
    "            nn.ReLU(),\r\n",
    "            nn.MaxPool2d(2),\r\n",
    "            nn.Dropout2d(0.2),\r\n",
    "            nn.Flatten()\r\n",
    "        )\r\n",
    "\r\n",
    "        self.lin_layers = nn.Sequential(\r\n",
    "            nn.Linear(32*7*7, 128),\r\n",
    "            nn.Linear(128, 64),\r\n",
    "            nn.Linear(64, num_classes),\r\n",
    "        )\r\n",
    "\r\n",
    "        # self.softmax = nn.LogSoftmax(num_classes)\r\n",
    "    @profile\r\n",
    "    def forward(self, x):\r\n",
    "        x = self.conv_layers(x)\r\n",
    "        x = self.lin_layers(x)\r\n",
    "        # x = self.softmax(x)\r\n",
    "\r\n",
    "        return x\r\n",
    "\r\n",
    "num_classes = len(np.unique(labels))\r\n",
    "model = basicModel(num_classes)\r\n",
    "loss_funk = nn.CrossEntropyLoss() \r\n",
    "optimizer = optim.Adam(model.parameters(), lr=0.01)\r\n"
   ],
   "outputs": [],
   "metadata": {}
  },
  {
   "cell_type": "markdown",
   "source": [
    "# To Do:\r\n",
    "--------------\r\n",
    "- ReWrite train function\r\n",
    "- call DataLoader on PytorchDataSet to load data into model\r\n",
    "- specify batchsize, number of epoches and learning rate for Adam opt\r\n",
    "<br><br><br><br>"
   ],
   "metadata": {}
  },
  {
   "cell_type": "code",
   "execution_count": 45,
   "source": [
    "num_epoch = \r\n",
    "train_losses = []\r\n",
    "val_losses = []\r\n",
    "\r\n",
    "def train(epoch):\r\n",
    "    model.train()\r\n",
    "    tr_loss = 0\r\n",
    "    data_train, label_train = Variable(train_data), Variable(train_label)\r\n",
    "    data_val, label_val = Variable(val_data), Variable(val_label)\r\n",
    "    \r\n",
    "    optimizer.zero_grad()\r\n",
    "    \r\n",
    "    output_train = model(train_data)\r\n",
    "    output_val = model(val_data)\r\n",
    "    \r\n",
    "    loss_train = loss_funk(output_train, train_label)\r\n",
    "    loss_val = loss_funk(output_val, val_label)\r\n",
    "    train_losses.append(loss_train)\r\n",
    "    val_losses.append(loss_val)\r\n",
    "    \r\n",
    "    loss_train.backward()\r\n",
    "    optimizer.step()\r\n",
    "    tr_loss = loss_train.item()\r\n",
    "    \r\n",
    "\r\n",
    "    # computing the updated weights of all the model parameters\r\n",
    "    loss_train.backward()\r\n",
    "    optimizer.step()\r\n",
    "    tr_loss = loss_train.item()\r\n",
    "    \r\n",
    "    print('\\n=====================================')\r\n",
    "    print(f'Epoch: {epoch+1}\\t loss: {loss_val}')\r\n",
    "    print('=====================================')\r\n",
    "    "
   ],
   "outputs": [],
   "metadata": {}
  },
  {
   "cell_type": "code",
   "execution_count": 48,
   "source": [
    "for i in range(num_epoch):\r\n",
    "    train(i)"
   ],
   "outputs": [
    {
     "output_type": "error",
     "ename": "TypeError",
     "evalue": "Variable data has to be a tensor, but got Subset",
     "traceback": [
      "\u001b[1;31m---------------------------------------------------------------------------\u001b[0m",
      "\u001b[1;31mTypeError\u001b[0m                                 Traceback (most recent call last)",
      "\u001b[1;32m<ipython-input-48-6f317238c24c>\u001b[0m in \u001b[0;36m<module>\u001b[1;34m\u001b[0m\n\u001b[0;32m      1\u001b[0m \u001b[1;32mfor\u001b[0m \u001b[0mi\u001b[0m \u001b[1;32min\u001b[0m \u001b[0mrange\u001b[0m\u001b[1;33m(\u001b[0m\u001b[0mnum_epoch\u001b[0m\u001b[1;33m)\u001b[0m\u001b[1;33m:\u001b[0m\u001b[1;33m\u001b[0m\u001b[1;33m\u001b[0m\u001b[0m\n\u001b[1;32m----> 2\u001b[1;33m     \u001b[0mtrain\u001b[0m\u001b[1;33m(\u001b[0m\u001b[0mi\u001b[0m\u001b[1;33m)\u001b[0m\u001b[1;33m\u001b[0m\u001b[1;33m\u001b[0m\u001b[0m\n\u001b[0m",
      "\u001b[1;32m<ipython-input-45-68553a6a66ed>\u001b[0m in \u001b[0;36mtrain\u001b[1;34m(epoch)\u001b[0m\n\u001b[0;32m      6\u001b[0m     \u001b[0mmodel\u001b[0m\u001b[1;33m.\u001b[0m\u001b[0mtrain\u001b[0m\u001b[1;33m(\u001b[0m\u001b[1;33m)\u001b[0m\u001b[1;33m\u001b[0m\u001b[1;33m\u001b[0m\u001b[0m\n\u001b[0;32m      7\u001b[0m     \u001b[0mtr_loss\u001b[0m \u001b[1;33m=\u001b[0m \u001b[1;36m0\u001b[0m\u001b[1;33m\u001b[0m\u001b[1;33m\u001b[0m\u001b[0m\n\u001b[1;32m----> 8\u001b[1;33m     \u001b[0mdata_train\u001b[0m\u001b[1;33m,\u001b[0m \u001b[0mlabel_train\u001b[0m \u001b[1;33m=\u001b[0m \u001b[0mVariable\u001b[0m\u001b[1;33m(\u001b[0m\u001b[0mtrain_data\u001b[0m\u001b[1;33m)\u001b[0m\u001b[1;33m,\u001b[0m \u001b[0mVariable\u001b[0m\u001b[1;33m(\u001b[0m\u001b[0mtrain_label\u001b[0m\u001b[1;33m)\u001b[0m\u001b[1;33m\u001b[0m\u001b[1;33m\u001b[0m\u001b[0m\n\u001b[0m\u001b[0;32m      9\u001b[0m     \u001b[0mdata_val\u001b[0m\u001b[1;33m,\u001b[0m \u001b[0mlabel_val\u001b[0m \u001b[1;33m=\u001b[0m \u001b[0mVariable\u001b[0m\u001b[1;33m(\u001b[0m\u001b[0mval_data\u001b[0m\u001b[1;33m)\u001b[0m\u001b[1;33m,\u001b[0m \u001b[0mVariable\u001b[0m\u001b[1;33m(\u001b[0m\u001b[0mval_label\u001b[0m\u001b[1;33m)\u001b[0m\u001b[1;33m\u001b[0m\u001b[1;33m\u001b[0m\u001b[0m\n\u001b[0;32m     10\u001b[0m \u001b[1;33m\u001b[0m\u001b[0m\n",
      "\u001b[1;31mTypeError\u001b[0m: Variable data has to be a tensor, but got Subset"
     ]
    }
   ],
   "metadata": {}
  },
  {
   "cell_type": "code",
   "execution_count": null,
   "source": [],
   "outputs": [],
   "metadata": {}
  }
 ],
 "metadata": {
  "orig_nbformat": 4,
  "language_info": {
   "name": "python",
   "version": "3.8.8",
   "mimetype": "text/x-python",
   "codemirror_mode": {
    "name": "ipython",
    "version": 3
   },
   "pygments_lexer": "ipython3",
   "nbconvert_exporter": "python",
   "file_extension": ".py"
  },
  "kernelspec": {
   "name": "python3",
   "display_name": "Python 3.8.8 64-bit ('base': conda)"
  },
  "interpreter": {
   "hash": "dba8851dec06c95965c4b9acd8f4325acdb80444c005ae414d7a6bcd36173821"
  }
 },
 "nbformat": 4,
 "nbformat_minor": 2
}