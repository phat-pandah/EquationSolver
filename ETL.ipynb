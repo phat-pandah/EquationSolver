{
 "cells": [
  {
   "cell_type": "code",
   "execution_count": 1,
   "metadata": {},
   "outputs": [
    {
     "name": "stdout",
     "output_type": "stream",
     "text": [
      "Great Success!!!\n"
     ]
    }
   ],
   "source": [
    "import os\n",
    "import cv2\n",
    "import numpy as np\n",
    "\n",
    "print('Great Success!!!')"
   ]
  },
  {
   "cell_type": "code",
   "execution_count": 2,
   "metadata": {},
   "outputs": [],
   "source": [
    "# Func to show images for testing\n",
    "def show_image(image):\n",
    "    cv2.imshow('image',image)\n",
    "    c = cv2.waitKey()\n",
    "    if c >= 0 : return -1\n",
    "    return 0"
   ]
  },
  {
   "cell_type": "code",
   "execution_count": 3,
   "metadata": {},
   "outputs": [],
   "source": [
    "# Set up\n",
    "\n",
    "data_folder = 'Math_Symbols\\extracted_images'\n",
    "image_class = os.listdir(data_folder)\n",
    "\n",
    "# Function to read images\n",
    "# squishes pixels in image either to black or white, then finds contours\n",
    "# reshape image to be 28x28 pixels and reshape again to be 784x1 array\n",
    "\n",
    "def load_images(folder):\n",
    "    data = []\n",
    "    for fname in os.listdir(folder)[:10]:\n",
    "        img_path = os.path.join(folder, fname)\n",
    "        image = cv2.imread(img_path, cv2.IMREAD_GRAYSCALE)\n",
    "        if image is not None:\n",
    "            # squish pixels to black or white\n",
    "            ret, thresh = cv2.threshold(image, 127, 255, cv2.THRESH_BINARY_INV)\n",
    "            contours, _ = cv2.findContours(thresh, cv2.RETR_EXTERNAL, cv2.CHAIN_APPROX_NONE)\n",
    "            # RETR_EXTERNAL: Extract only outer contours\n",
    "            # CHAIN_APPROX_NONE: Stores ALL points on contour\n",
    "            count = sorted(contours, key=lambda ctr: cv2.boundingRect(ctr)[0])\n",
    "            w, h = 28, 28  # Width, Height\n",
    "            maxi = 0\n",
    "            for c in count:\n",
    "                x, y, w, h = cv2.boundingRect(c)\n",
    "                maxi = max(w*h, maxi)\n",
    "                if maxi == w*h:\n",
    "                    x_max, y_max = x, y\n",
    "                    w_max, h_max = w, h\n",
    "            im_crop = thresh[y_max:y_max+h_max+10, x_max:x_max+w_max+10]\n",
    "            im_resize = cv2.resize(im_crop, (28, 28))\n",
    "            #im_resize = np.reshape(im_resize, (784, 1))\n",
    "            data.append(im_resize)\n",
    "    return data\n"
   ]
  },
  {
   "cell_type": "code",
   "execution_count": 4,
   "metadata": {},
   "outputs": [],
   "source": [
    "# Label each math symbol\n",
    "\n",
    "symbol_to_label = {\n",
    "                   '0':0, '1':1, '2':2, '3':3, '4':4, '5':5, '6':6, '7':7, '8':8, '9':9,\n",
    "                   'A':10, 'b':11, 'C':12, 'd':13, 'e':14, 'f':15, 'G':16, 'H':17,\n",
    "                   'i':18, 'j':19, 'k':20, 'l':21, 'M':22, 'N':23, 'o':24, 'p':25, \n",
    "                   'q':26, 'R':27, 'S':28, 'T':29, 'u':30, 'v':31, 'w':32, 'X':33, \n",
    "                   'y':34, 'z':35, 'alpha':36, 'beta':37, 'Delta':38, 'gamma': 39,\n",
    "                   'lambda':40, 'mu':41, 'phi':42, 'pi':43, 'sigma':44, 'theta':45,\n",
    "                   'cos':46, 'sin':47, 'tan':48, '+':49, '-':50, 'times':51, 'div':52,\n",
    "                   'int':53, 'pm':54, 'geq':55, 'gt':56, 'leq':57, 'lt':58, 'neq':59,\n",
    "                   'sqrt':60, 'exists':61, 'forall':62, 'lim':63, 'log':64, 'prime':65,\n",
    "                   'rightarrow':66, 'infty':67, 'forward_slash':68, '!':69, '(':70,\n",
    "                   ')':71, ',':72, '[':73, ']':74, '{':75, '}':76, 'ascii_124':78,\n",
    "                   'in':79, 'ldots':80, 'sum':81, '=':82\n",
    "                   }\n",
    "\n",
    "label_to_symbol = dict([(val, key) for key, val in symbol_to_label.items()])"
   ]
  },
  {
   "cell_type": "code",
   "execution_count": 5,
   "metadata": {},
   "outputs": [],
   "source": [
    "test1_fpath = 'Math_Symbols\\extracted_images\\='\n",
    "test1 = load_images(test1_fpath)"
   ]
  },
  {
   "cell_type": "code",
   "execution_count": null,
   "metadata": {},
   "outputs": [],
   "source": [
    "test2_fpath = r\"Math_Symbols\\extracted_images\\0\"\n",
    "test2 = load_images(test2_fpath)"
   ]
  },
  {
   "cell_type": "code",
   "execution_count": 11,
   "metadata": {},
   "outputs": [
    {
     "data": {
      "image/png": "[encoded data removed]",
      "text/plain": [
       "<Figure size 432x288 with 1 Axes>"
      ]
     },
     "metadata": {
      "needs_background": "light"
     },
     "output_type": "display_data"
    }
   ],
   "source": [
    "import matplotlib.pyplot as plt \n",
    "\n",
    "plt.close(1);plt.figure(1)\n",
    "\n",
    "plt.imshow(test1[2], cmap='gray')\n",
    "plt.show()"
   ]
  },
  {
   "cell_type": "code",
   "execution_count": 202,
   "metadata": {},
   "outputs": [],
   "source": [
    "data = load_images('Math_Symbols\\extracted_images\\-')\n",
    "minus = symbol_to_label['-']\n",
    "for i in range(0, len(data)):\n",
    "    data[i] = np.append(data[i], minus)\n",
    "    \n",
    "    \n",
    "for symbol_folder in os.listdir(data_folder)[1:]:\n",
    "    folder_path = os.path.join(data_folder, symbol_folder)\n",
    "    label = symbol_to_label[symbol_folder]\n",
    "    symbol_data = load_images(folder_path)\n",
    "    \n",
    "    for i in range(0, len(symbol_data)):\n",
    "        symbol_data[i] = np.append(symbol_data[i], label)\n",
    "    \n",
    "    data = np.concatenate((data,symbol_data))\n",
    "\n",
    "    "
   ]
  },
  {
   "cell_type": "code",
   "execution_count": 203,
   "metadata": {},
   "outputs": [
    {
     "data": {
      "text/plain": [
       "408671"
      ]
     },
     "execution_count": 203,
     "metadata": {},
     "output_type": "execute_result"
    }
   ],
   "source": [
    "len(data)"
   ]
  },
  {
   "cell_type": "code",
   "execution_count": 205,
   "metadata": {},
   "outputs": [],
   "source": [
    "import pandas as pd\n",
    "\n",
    "df = pd.DataFrame(data, index=None)\n",
    "df.to_csv('MathSymbolsData.csv', index=False)"
   ]
  },
  {
   "cell_type": "code",
   "execution_count": 209,
   "metadata": {},
   "outputs": [
    {
     "data": {
      "text/plain": [
       "[0, 1, 2, 3, 4, 5, 6, 7, 8, 9, 49, 50, 51, 52, 82, 33, 34]"
      ]
     },
     "execution_count": 209,
     "metadata": {},
     "output_type": "execute_result"
    }
   ],
   "source": [
    "# Due \n",
    "\n",
    "to_keep_sym = [\n",
    "    '0', '1', '2', '3', '4', '5', '6', '7', '8', '9',\n",
    "    '+', '-', 'times', 'div', '=',  'X', 'y',\n",
    "]\n",
    "to_keep_label = [symbol_to_label[i] for i in to_keep_sym]\n",
    "test_df = df[df[784].isin(to_keep_label)]"
   ]
  },
  {
   "cell_type": "code",
   "execution_count": 237,
   "metadata": {},
   "outputs": [],
   "source": [
    "FirstModel_df = pd.DataFrame(columns=df.columns)\n",
    "\n",
    "for i in range(0,200000,2000):\n",
    "    row_label = df.iloc[i,784]\n",
    "    if row_label in to_keep_label:\n",
    " \n",
    "        row = df.iloc[i]\n",
    "        FirstModel_df.append(row)\n",
    "    "
   ]
  },
  {
   "cell_type": "code",
   "execution_count": 239,
   "metadata": {},
   "outputs": [],
   "source": [
    "test_df = df[df[784].isin(to_keep_label)]"
   ]
  },
  {
   "cell_type": "code",
   "execution_count": 247,
   "metadata": {},
   "outputs": [
    {
     "name": "stdout",
     "output_type": "stream",
     "text": [
      "<class 'pandas.core.frame.DataFrame'>\n",
      "Int64Index: 240520 entries, 0 to 400489\n",
      "Columns: 785 entries, 0 to 784\n",
      "dtypes: int32(785)\n",
      "memory usage: 722.1 MB\n"
     ]
    }
   ],
   "source": [
    "test_df.to_csv('FirstModel/data.csv',index=None)\n",
    "test_df.info(memory_usage=\"deep\")"
   ]
  },
  {
   "cell_type": "code",
   "execution_count": null,
   "metadata": {},
   "outputs": [],
   "source": []
  }
 ],
 "metadata": {
  "interpreter": {
   "hash": "dba8851dec06c95965c4b9acd8f4325acdb80444c005ae414d7a6bcd36173821"
  },
  "kernelspec": {
   "display_name": "Python 3.8.8 64-bit ('base': conda)",
   "name": "python3"
  },
  "language_info": {
   "codemirror_mode": {
    "name": "ipython",
    "version": 3
   },
   "file_extension": ".py",
   "mimetype": "text/x-python",
   "name": "python",
   "nbconvert_exporter": "python",
   "pygments_lexer": "ipython3",
   "version": "3.8.8"
  },
  "orig_nbformat": 4
 },
 "nbformat": 4,
 "nbformat_minor": 2
}
