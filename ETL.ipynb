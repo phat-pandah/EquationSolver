{
 "cells": [
  {
   "cell_type": "code",
   "execution_count": 1,
   "source": [
    "import os\r\n",
    "import cv2\r\n",
    "import numpy as np\r\n",
    "\r\n",
    "print('Great Success!!!')"
   ],
   "outputs": [
    {
     "output_type": "stream",
     "name": "stdout",
     "text": [
      "Great Success!!!\n"
     ]
    }
   ],
   "metadata": {}
  },
  {
   "cell_type": "code",
   "execution_count": 2,
   "source": [
    "# Func to show images for testing\r\n",
    "def show_image(image):\r\n",
    "    cv2.imshow('image',image)\r\n",
    "    c = cv2.waitKey()\r\n",
    "    if c >= 0 : return -1\r\n",
    "    return 0"
   ],
   "outputs": [],
   "metadata": {}
  },
  {
   "cell_type": "code",
   "execution_count": 8,
   "source": [
    "# Set up\r\n",
    "\r\n",
    "data_folder = 'Math_Symbols\\extracted_images'\r\n",
    "image_class = os.listdir(data_folder)\r\n",
    "\r\n",
    "# Function to read images\r\n",
    "# squishes pixels in image either to black or white, then finds contours\r\n",
    "# reshape image to be 28x28 pixels and reshape again to be 784x1 array\r\n",
    "\r\n",
    "def load_images(folder):\r\n",
    "    data = []\r\n",
    "    for fname in os.listdir(folder)[:10]:\r\n",
    "        img_path = os.path.join(folder, fname)\r\n",
    "        image = cv2.imread(img_path, cv2.IMREAD_GRAYSCALE)\r\n",
    "        if image is not None:\r\n",
    "            # squish pixels to black or white\r\n",
    "            ret, thresh = cv2.threshold(image, 127, 255, cv2.THRESH_BINARY_INV)\r\n",
    "            contours, _ = cv2.findContours(thresh, cv2.RETR_EXTERNAL, cv2.CHAIN_APPROX_NONE)\r\n",
    "            # RETR_EXTERNAL: Extract only outer contours\r\n",
    "            # CHAIN_APPROX_NONE: Stores ALL points on contour\r\n",
    "            count = sorted(contours, key=lambda ctr: cv2.boundingRect(ctr)[0])\r\n",
    "            w, h = 28, 28  # Width, Height\r\n",
    "            maxi = 0\r\n",
    "            for c in count:\r\n",
    "                x, y, w, h = cv2.boundingRect(c)\r\n",
    "                maxi = max(w*h, maxi)\r\n",
    "                if maxi == w*h:\r\n",
    "                    x_max, y_max = x, y\r\n",
    "                    w_max, h_max = w, h\r\n",
    "            im_crop = thresh[y_max:y_max+h_max+10, x_max:x_max+w_max+10]\r\n",
    "            im_resize = cv2.resize(im_crop, (28, 28))\r\n",
    "            #im_resize = np.reshape(im_resize, (784, 1))\r\n",
    "            data.append(im_resize)\r\n",
    "    return data\r\n"
   ],
   "outputs": [],
   "metadata": {}
  },
  {
   "cell_type": "code",
   "execution_count": 4,
   "source": [
    "# Label each math symbol\r\n",
    "\r\n",
    "symbol_to_label = {\r\n",
    "                   '0':0, '1':1, '2':2, '3':3, '4':4, '5':5, '6':6, '7':7, '8':8, '9':9,\r\n",
    "                   'A':10, 'b':11, 'C':12, 'd':13, 'e':14, 'f':15, 'G':16, 'H':17,\r\n",
    "                   'i':18, 'j':19, 'k':20, 'l':21, 'M':22, 'N':23, 'o':24, 'p':25, \r\n",
    "                   'q':26, 'R':27, 'S':28, 'T':29, 'u':30, 'v':31, 'w':32, 'X':33, \r\n",
    "                   'y':34, 'z':35, 'alpha':36, 'beta':37, 'Delta':38, 'gamma': 39,\r\n",
    "                   'lambda':40, 'mu':41, 'phi':42, 'pi':43, 'sigma':44, 'theta':45,\r\n",
    "                   'cos':46, 'sin':47, 'tan':48, '+':49, '-':50, 'times':51, 'div':52,\r\n",
    "                   'int':53, 'pm':54, 'geq':55, 'gt':56, 'leq':57, 'lt':58, 'neq':59,\r\n",
    "                   'sqrt':60, 'exists':61, 'forall':62, 'lim':63, 'log':64, 'prime':65,\r\n",
    "                   'rightarrow':66, 'infty':67, 'forward_slash':68, '!':69, '(':70,\r\n",
    "                   ')':71, ',':72, '[':73, ']':74, '{':75, '}':76, 'ascii_124':78,\r\n",
    "                   'in':79, 'ldots':80, 'sum':81, '=':82\r\n",
    "                   }\r\n",
    "\r\n",
    "label_to_symbol = dict([(val, key) for key, val in symbol_to_label.items()])"
   ],
   "outputs": [],
   "metadata": {}
  },
  {
   "cell_type": "code",
   "execution_count": 12,
   "source": [
    "test1_fpath = 'Math_Symbols\\extracted_images\\='\r\n",
    "test1 = load_images(test1_fpath)"
   ],
   "outputs": [],
   "metadata": {}
  },
  {
   "cell_type": "code",
   "execution_count": 19,
   "source": [
    "import pandas as pd\r\n",
    "\r\n",
    "df1 = pd.DataFrame(test1)"
   ],
   "outputs": [
    {
     "output_type": "error",
     "ename": "ValueError",
     "evalue": "Must pass 2-d input. shape=(10, 28, 28)",
     "traceback": [
      "\u001b[1;31m---------------------------------------------------------------------------\u001b[0m",
      "\u001b[1;31mValueError\u001b[0m                                Traceback (most recent call last)",
      "\u001b[1;32m<ipython-input-19-a798f8c60702>\u001b[0m in \u001b[0;36m<module>\u001b[1;34m\u001b[0m\n\u001b[0;32m      1\u001b[0m \u001b[1;32mimport\u001b[0m \u001b[0mpandas\u001b[0m \u001b[1;32mas\u001b[0m \u001b[0mpd\u001b[0m\u001b[1;33m\u001b[0m\u001b[1;33m\u001b[0m\u001b[0m\n\u001b[0;32m      2\u001b[0m \u001b[1;33m\u001b[0m\u001b[0m\n\u001b[1;32m----> 3\u001b[1;33m \u001b[0mdf1\u001b[0m \u001b[1;33m=\u001b[0m \u001b[0mpd\u001b[0m\u001b[1;33m.\u001b[0m\u001b[0mDataFrame\u001b[0m\u001b[1;33m(\u001b[0m\u001b[0mtest1\u001b[0m\u001b[1;33m)\u001b[0m\u001b[1;33m\u001b[0m\u001b[1;33m\u001b[0m\u001b[0m\n\u001b[0m",
      "\u001b[1;32m~\\anaconda3\\lib\\site-packages\\pandas\\core\\frame.py\u001b[0m in \u001b[0;36m__init__\u001b[1;34m(self, data, index, columns, dtype, copy)\u001b[0m\n\u001b[0;32m    582\u001b[0m                     \u001b[0mmgr\u001b[0m \u001b[1;33m=\u001b[0m \u001b[0marrays_to_mgr\u001b[0m\u001b[1;33m(\u001b[0m\u001b[0marrays\u001b[0m\u001b[1;33m,\u001b[0m \u001b[0mcolumns\u001b[0m\u001b[1;33m,\u001b[0m \u001b[0mindex\u001b[0m\u001b[1;33m,\u001b[0m \u001b[0mcolumns\u001b[0m\u001b[1;33m,\u001b[0m \u001b[0mdtype\u001b[0m\u001b[1;33m=\u001b[0m\u001b[0mdtype\u001b[0m\u001b[1;33m)\u001b[0m\u001b[1;33m\u001b[0m\u001b[1;33m\u001b[0m\u001b[0m\n\u001b[0;32m    583\u001b[0m                 \u001b[1;32melse\u001b[0m\u001b[1;33m:\u001b[0m\u001b[1;33m\u001b[0m\u001b[1;33m\u001b[0m\u001b[0m\n\u001b[1;32m--> 584\u001b[1;33m                     \u001b[0mmgr\u001b[0m \u001b[1;33m=\u001b[0m \u001b[0minit_ndarray\u001b[0m\u001b[1;33m(\u001b[0m\u001b[0mdata\u001b[0m\u001b[1;33m,\u001b[0m \u001b[0mindex\u001b[0m\u001b[1;33m,\u001b[0m \u001b[0mcolumns\u001b[0m\u001b[1;33m,\u001b[0m \u001b[0mdtype\u001b[0m\u001b[1;33m=\u001b[0m\u001b[0mdtype\u001b[0m\u001b[1;33m,\u001b[0m \u001b[0mcopy\u001b[0m\u001b[1;33m=\u001b[0m\u001b[0mcopy\u001b[0m\u001b[1;33m)\u001b[0m\u001b[1;33m\u001b[0m\u001b[1;33m\u001b[0m\u001b[0m\n\u001b[0m\u001b[0;32m    585\u001b[0m             \u001b[1;32melse\u001b[0m\u001b[1;33m:\u001b[0m\u001b[1;33m\u001b[0m\u001b[1;33m\u001b[0m\u001b[0m\n\u001b[0;32m    586\u001b[0m                 \u001b[0mmgr\u001b[0m \u001b[1;33m=\u001b[0m \u001b[0minit_dict\u001b[0m\u001b[1;33m(\u001b[0m\u001b[1;33m{\u001b[0m\u001b[1;33m}\u001b[0m\u001b[1;33m,\u001b[0m \u001b[0mindex\u001b[0m\u001b[1;33m,\u001b[0m \u001b[0mcolumns\u001b[0m\u001b[1;33m,\u001b[0m \u001b[0mdtype\u001b[0m\u001b[1;33m=\u001b[0m\u001b[0mdtype\u001b[0m\u001b[1;33m)\u001b[0m\u001b[1;33m\u001b[0m\u001b[1;33m\u001b[0m\u001b[0m\n",
      "\u001b[1;32m~\\anaconda3\\lib\\site-packages\\pandas\\core\\internals\\construction.py\u001b[0m in \u001b[0;36minit_ndarray\u001b[1;34m(values, index, columns, dtype, copy)\u001b[0m\n\u001b[0;32m    190\u001b[0m     \u001b[1;31m# by definition an array here\u001b[0m\u001b[1;33m\u001b[0m\u001b[1;33m\u001b[0m\u001b[1;33m\u001b[0m\u001b[0m\n\u001b[0;32m    191\u001b[0m     \u001b[1;31m# the dtypes will be coerced to a single dtype\u001b[0m\u001b[1;33m\u001b[0m\u001b[1;33m\u001b[0m\u001b[1;33m\u001b[0m\u001b[0m\n\u001b[1;32m--> 192\u001b[1;33m     \u001b[0mvalues\u001b[0m \u001b[1;33m=\u001b[0m \u001b[0m_prep_ndarray\u001b[0m\u001b[1;33m(\u001b[0m\u001b[0mvalues\u001b[0m\u001b[1;33m,\u001b[0m \u001b[0mcopy\u001b[0m\u001b[1;33m=\u001b[0m\u001b[0mcopy\u001b[0m\u001b[1;33m)\u001b[0m\u001b[1;33m\u001b[0m\u001b[1;33m\u001b[0m\u001b[0m\n\u001b[0m\u001b[0;32m    193\u001b[0m \u001b[1;33m\u001b[0m\u001b[0m\n\u001b[0;32m    194\u001b[0m     \u001b[1;32mif\u001b[0m \u001b[0mdtype\u001b[0m \u001b[1;32mis\u001b[0m \u001b[1;32mnot\u001b[0m \u001b[1;32mNone\u001b[0m \u001b[1;32mand\u001b[0m \u001b[1;32mnot\u001b[0m \u001b[0mis_dtype_equal\u001b[0m\u001b[1;33m(\u001b[0m\u001b[0mvalues\u001b[0m\u001b[1;33m.\u001b[0m\u001b[0mdtype\u001b[0m\u001b[1;33m,\u001b[0m \u001b[0mdtype\u001b[0m\u001b[1;33m)\u001b[0m\u001b[1;33m:\u001b[0m\u001b[1;33m\u001b[0m\u001b[1;33m\u001b[0m\u001b[0m\n",
      "\u001b[1;32m~\\anaconda3\\lib\\site-packages\\pandas\\core\\internals\\construction.py\u001b[0m in \u001b[0;36m_prep_ndarray\u001b[1;34m(values, copy)\u001b[0m\n\u001b[0;32m    326\u001b[0m         \u001b[0mvalues\u001b[0m \u001b[1;33m=\u001b[0m \u001b[0mvalues\u001b[0m\u001b[1;33m.\u001b[0m\u001b[0mreshape\u001b[0m\u001b[1;33m(\u001b[0m\u001b[1;33m(\u001b[0m\u001b[0mvalues\u001b[0m\u001b[1;33m.\u001b[0m\u001b[0mshape\u001b[0m\u001b[1;33m[\u001b[0m\u001b[1;36m0\u001b[0m\u001b[1;33m]\u001b[0m\u001b[1;33m,\u001b[0m \u001b[1;36m1\u001b[0m\u001b[1;33m)\u001b[0m\u001b[1;33m)\u001b[0m\u001b[1;33m\u001b[0m\u001b[1;33m\u001b[0m\u001b[0m\n\u001b[0;32m    327\u001b[0m     \u001b[1;32melif\u001b[0m \u001b[0mvalues\u001b[0m\u001b[1;33m.\u001b[0m\u001b[0mndim\u001b[0m \u001b[1;33m!=\u001b[0m \u001b[1;36m2\u001b[0m\u001b[1;33m:\u001b[0m\u001b[1;33m\u001b[0m\u001b[1;33m\u001b[0m\u001b[0m\n\u001b[1;32m--> 328\u001b[1;33m         \u001b[1;32mraise\u001b[0m \u001b[0mValueError\u001b[0m\u001b[1;33m(\u001b[0m\u001b[1;34mf\"Must pass 2-d input. shape={values.shape}\"\u001b[0m\u001b[1;33m)\u001b[0m\u001b[1;33m\u001b[0m\u001b[1;33m\u001b[0m\u001b[0m\n\u001b[0m\u001b[0;32m    329\u001b[0m \u001b[1;33m\u001b[0m\u001b[0m\n\u001b[0;32m    330\u001b[0m     \u001b[1;32mreturn\u001b[0m \u001b[0mvalues\u001b[0m\u001b[1;33m\u001b[0m\u001b[1;33m\u001b[0m\u001b[0m\n",
      "\u001b[1;31mValueError\u001b[0m: Must pass 2-d input. shape=(10, 28, 28)"
     ]
    }
   ],
   "metadata": {}
  },
  {
   "cell_type": "code",
   "execution_count": 202,
   "source": [
    "data = load_images('Math_Symbols\\extracted_images\\-')\r\n",
    "minus = symbol_to_label['-']\r\n",
    "for i in range(0, len(data)):\r\n",
    "    data[i] = np.append(data[i], minus)\r\n",
    "    \r\n",
    "    \r\n",
    "for symbol_folder in os.listdir(data_folder)[1:]:\r\n",
    "    folder_path = os.path.join(data_folder, symbol_folder)\r\n",
    "    label = symbol_to_label[symbol_folder]\r\n",
    "    symbol_data = load_images(folder_path)\r\n",
    "    \r\n",
    "    for i in range(0, len(symbol_data)):\r\n",
    "        symbol_data[i] = np.append(symbol_data[i], label)\r\n",
    "    \r\n",
    "    data = np.concatenate((data,symbol_data))\r\n",
    "\r\n",
    "    "
   ],
   "outputs": [],
   "metadata": {}
  },
  {
   "cell_type": "code",
   "execution_count": 203,
   "source": [
    "len(data)"
   ],
   "outputs": [
    {
     "output_type": "execute_result",
     "data": {
      "text/plain": [
       "408671"
      ]
     },
     "metadata": {},
     "execution_count": 203
    }
   ],
   "metadata": {}
  },
  {
   "cell_type": "code",
   "execution_count": 205,
   "source": [
    "import pandas as pd\r\n",
    "\r\n",
    "df = pd.DataFrame(data, index=None)\r\n",
    "df.to_csv('MathSymbolsData.csv', index=False)"
   ],
   "outputs": [],
   "metadata": {}
  },
  {
   "cell_type": "code",
   "execution_count": 209,
   "source": [
    "# Due \r\n",
    "\r\n",
    "to_keep_sym = [\r\n",
    "    '0', '1', '2', '3', '4', '5', '6', '7', '8', '9',\r\n",
    "    '+', '-', 'times', 'div', '=',  'X', 'y',\r\n",
    "]\r\n",
    "to_keep_label = [symbol_to_label[i] for i in to_keep_sym]\r\n",
    "test_df = df[df[784].isin(to_keep_label)]"
   ],
   "outputs": [
    {
     "output_type": "execute_result",
     "data": {
      "text/plain": [
       "[0, 1, 2, 3, 4, 5, 6, 7, 8, 9, 49, 50, 51, 52, 82, 33, 34]"
      ]
     },
     "metadata": {},
     "execution_count": 209
    }
   ],
   "metadata": {}
  },
  {
   "cell_type": "code",
   "execution_count": 237,
   "source": [
    "FirstModel_df = pd.DataFrame(columns=df.columns)\r\n",
    "\r\n",
    "for i in range(0,200000,2000):\r\n",
    "    row_label = df.iloc[i,784]\r\n",
    "    if row_label in to_keep_label:\r\n",
    " \r\n",
    "        row = df.iloc[i]\r\n",
    "        FirstModel_df.append(row)\r\n",
    "    "
   ],
   "outputs": [],
   "metadata": {}
  },
  {
   "cell_type": "code",
   "execution_count": 239,
   "source": [
    "test_df = df[df[784].isin(to_keep_label)]"
   ],
   "outputs": [],
   "metadata": {}
  },
  {
   "cell_type": "code",
   "execution_count": 247,
   "source": [
    "test_df.to_csv('FirstModel/data.csv',index=None)\r\n",
    "test_df.info(memory_usage=\"deep\")"
   ],
   "outputs": [
    {
     "output_type": "stream",
     "name": "stdout",
     "text": [
      "<class 'pandas.core.frame.DataFrame'>\n",
      "Int64Index: 240520 entries, 0 to 400489\n",
      "Columns: 785 entries, 0 to 784\n",
      "dtypes: int32(785)\n",
      "memory usage: 722.1 MB\n"
     ]
    }
   ],
   "metadata": {}
  },
  {
   "cell_type": "code",
   "execution_count": null,
   "source": [],
   "outputs": [],
   "metadata": {}
  }
 ],
 "metadata": {
  "orig_nbformat": 4,
  "language_info": {
   "name": "python",
   "version": "3.8.8",
   "mimetype": "text/x-python",
   "codemirror_mode": {
    "name": "ipython",
    "version": 3
   },
   "pygments_lexer": "ipython3",
   "nbconvert_exporter": "python",
   "file_extension": ".py"
  },
  "kernelspec": {
   "name": "python3",
   "display_name": "Python 3.8.8 64-bit ('base': conda)"
  },
  "interpreter": {
   "hash": "dba8851dec06c95965c4b9acd8f4325acdb80444c005ae414d7a6bcd36173821"
  }
 },
 "nbformat": 4,
 "nbformat_minor": 2
}